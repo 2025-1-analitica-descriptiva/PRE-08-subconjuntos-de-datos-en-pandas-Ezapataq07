{
 "cells": [
  {
   "cell_type": "code",
   "execution_count": 1,
   "id": "07ac240b",
   "metadata": {},
   "outputs": [],
   "source": [
    "import pandas as pd  #  type: ignore\n",
    "\n",
    "pd.set_option(\"display.notebook_repr_html\", False)"
   ]
  },
  {
   "cell_type": "code",
   "execution_count": 2,
   "id": "3a22f7d8",
   "metadata": {},
   "outputs": [
    {
     "data": {
      "application/vnd.microsoft.datawrangler.viewer.v0+json": {
       "columns": [
        {
         "name": "index",
         "rawType": "int64",
         "type": "integer"
        },
        {
         "name": "driverId",
         "rawType": "int64",
         "type": "integer"
        },
        {
         "name": "truckId",
         "rawType": "int64",
         "type": "integer"
        },
        {
         "name": "eventTime",
         "rawType": "object",
         "type": "string"
        },
        {
         "name": "eventType",
         "rawType": "object",
         "type": "string"
        },
        {
         "name": "longitude",
         "rawType": "float64",
         "type": "float"
        },
        {
         "name": "latitude",
         "rawType": "float64",
         "type": "float"
        },
        {
         "name": "eventKey",
         "rawType": "object",
         "type": "string"
        },
        {
         "name": "CorrelationId",
         "rawType": "float64",
         "type": "float"
        },
        {
         "name": "driverName",
         "rawType": "object",
         "type": "string"
        },
        {
         "name": "routeId",
         "rawType": "int64",
         "type": "integer"
        },
        {
         "name": "routeName",
         "rawType": "object",
         "type": "string"
        },
        {
         "name": "eventDate",
         "rawType": "object",
         "type": "string"
        }
       ],
       "conversionMethod": "pd.DataFrame",
       "ref": "f027dccf-146b-43cf-888c-3e5b7df06f3b",
       "rows": [
        [
         "0",
         "14",
         "25",
         "59:21.4",
         "Normal",
         "-94.58",
         "37.03",
         "14|25|9223370572464814373",
         "3.66e+18",
         "Adis Cesir",
         "160405074",
         "Joplin to Kansas City Route 2",
         "2016-05-27-22"
        ],
        [
         "1",
         "18",
         "16",
         "59:21.7",
         "Normal",
         "-89.66",
         "39.78",
         "18|16|9223370572464814089",
         "3.66e+18",
         "Grant Liu",
         "1565885487",
         "Springfield to KC Via Hanibal",
         "2016-05-27-22"
        ],
        [
         "2",
         "27",
         "105",
         "59:21.7",
         "Normal",
         "-90.21",
         "38.65",
         "27|105|9223370572464814070",
         "3.66e+18",
         "Mark Lochbihler",
         "1325562373",
         "Springfield to KC Via Columbia Route 2",
         "2016-05-27-22"
        ],
        [
         "3",
         "11",
         "74",
         "59:21.7",
         "Normal",
         "-90.2",
         "38.65",
         "11|74|9223370572464814123",
         "3.66e+18",
         "Jamie Engesser",
         "1567254452",
         "Saint Louis to Memphis Route2",
         "2016-05-27-22"
        ],
        [
         "4",
         "22",
         "87",
         "59:21.7",
         "Normal",
         "-90.04",
         "35.19",
         "22|87|9223370572464814101",
         "3.66e+18",
         "Nadeem Asghar",
         "1198242881",
         " Saint Louis to Chicago Route2",
         "2016-05-27-22"
        ]
       ],
       "shape": {
        "columns": 12,
        "rows": 5
       }
      },
      "text/plain": [
       "   driverId  truckId eventTime eventType  longitude  latitude  \\\n",
       "0        14       25   59:21.4    Normal     -94.58     37.03   \n",
       "1        18       16   59:21.7    Normal     -89.66     39.78   \n",
       "2        27      105   59:21.7    Normal     -90.21     38.65   \n",
       "3        11       74   59:21.7    Normal     -90.20     38.65   \n",
       "4        22       87   59:21.7    Normal     -90.04     35.19   \n",
       "\n",
       "                     eventKey  CorrelationId       driverName     routeId  \\\n",
       "0   14|25|9223370572464814373   3.660000e+18       Adis Cesir   160405074   \n",
       "1   18|16|9223370572464814089   3.660000e+18        Grant Liu  1565885487   \n",
       "2  27|105|9223370572464814070   3.660000e+18  Mark Lochbihler  1325562373   \n",
       "3   11|74|9223370572464814123   3.660000e+18   Jamie Engesser  1567254452   \n",
       "4   22|87|9223370572464814101   3.660000e+18    Nadeem Asghar  1198242881   \n",
       "\n",
       "                                routeName      eventDate  \n",
       "0           Joplin to Kansas City Route 2  2016-05-27-22  \n",
       "1           Springfield to KC Via Hanibal  2016-05-27-22  \n",
       "2  Springfield to KC Via Columbia Route 2  2016-05-27-22  \n",
       "3           Saint Louis to Memphis Route2  2016-05-27-22  \n",
       "4           Saint Louis to Chicago Route2  2016-05-27-22  "
      ]
     },
     "execution_count": 2,
     "metadata": {},
     "output_type": "execute_result"
    }
   ],
   "source": [
    "truck_events = pd.read_csv(\"../files/input/truck_event_text_partition.csv\")\n",
    "\n",
    "truck_events.head()"
   ]
  },
  {
   "cell_type": "code",
   "execution_count": 3,
   "id": "3a635e38",
   "metadata": {},
   "outputs": [
    {
     "data": {
      "application/vnd.microsoft.datawrangler.viewer.v0+json": {
       "columns": [
        {
         "name": "index",
         "rawType": "int64",
         "type": "integer"
        },
        {
         "name": "driverId",
         "rawType": "int64",
         "type": "integer"
        },
        {
         "name": "truckId",
         "rawType": "int64",
         "type": "integer"
        },
        {
         "name": "eventTime",
         "rawType": "object",
         "type": "string"
        },
        {
         "name": "eventType",
         "rawType": "object",
         "type": "string"
        },
        {
         "name": "longitude",
         "rawType": "float64",
         "type": "float"
        },
        {
         "name": "latitude",
         "rawType": "float64",
         "type": "float"
        },
        {
         "name": "eventKey",
         "rawType": "object",
         "type": "string"
        },
        {
         "name": "CorrelationId",
         "rawType": "float64",
         "type": "float"
        },
        {
         "name": "driverName",
         "rawType": "object",
         "type": "string"
        },
        {
         "name": "routeId",
         "rawType": "int64",
         "type": "integer"
        },
        {
         "name": "routeName",
         "rawType": "object",
         "type": "string"
        },
        {
         "name": "eventDate",
         "rawType": "object",
         "type": "string"
        }
       ],
       "conversionMethod": "pd.DataFrame",
       "ref": "436696d7-9b06-49b7-92c7-65afba3b2ed2",
       "rows": [
        [
         "0",
         "14",
         "25",
         "59:21.4",
         "Normal",
         "-94.58",
         "37.03",
         "14|25|9223370572464814373",
         "3.66e+18",
         "Adis Cesir",
         "160405074",
         "Joplin to Kansas City Route 2",
         "2016-05-27-22"
        ],
        [
         "1",
         "18",
         "16",
         "59:21.7",
         "Normal",
         "-89.66",
         "39.78",
         "18|16|9223370572464814089",
         "3.66e+18",
         "Grant Liu",
         "1565885487",
         "Springfield to KC Via Hanibal",
         "2016-05-27-22"
        ],
        [
         "2",
         "27",
         "105",
         "59:21.7",
         "Normal",
         "-90.21",
         "38.65",
         "27|105|9223370572464814070",
         "3.66e+18",
         "Mark Lochbihler",
         "1325562373",
         "Springfield to KC Via Columbia Route 2",
         "2016-05-27-22"
        ],
        [
         "3",
         "11",
         "74",
         "59:21.7",
         "Normal",
         "-90.2",
         "38.65",
         "11|74|9223370572464814123",
         "3.66e+18",
         "Jamie Engesser",
         "1567254452",
         "Saint Louis to Memphis Route2",
         "2016-05-27-22"
        ],
        [
         "4",
         "22",
         "87",
         "59:21.7",
         "Normal",
         "-90.04",
         "35.19",
         "22|87|9223370572464814101",
         "3.66e+18",
         "Nadeem Asghar",
         "1198242881",
         " Saint Louis to Chicago Route2",
         "2016-05-27-22"
        ],
        [
         "5",
         "22",
         "87",
         "59:22.3",
         "Normal",
         "-90.37",
         "35.21",
         "22|87|9223370572464813486",
         "3.66e+18",
         "Nadeem Asghar",
         "1198242881",
         " Saint Louis to Chicago Route2",
         "2016-05-27-22"
        ],
        [
         "6",
         "23",
         "68",
         "59:22.4",
         "Normal",
         "-89.91",
         "40.86",
         "23|68|9223370572464813450",
         "3.66e+18",
         "Adam Diaz",
         "160405074",
         "Joplin to Kansas City Route 2",
         "2016-05-27-22"
        ],
        [
         "7",
         "11",
         "74",
         "59:22.5",
         "Normal",
         "-89.74",
         "39.1",
         "11|74|9223370572464813355",
         "3.66e+18",
         "Jamie Engesser",
         "1567254452",
         "Saint Louis to Memphis Route2",
         "2016-05-27-22"
        ],
        [
         "8",
         "20",
         "41",
         "59:22.5",
         "Normal",
         "-93.36",
         "41.69",
         "20|41|9223370572464813344",
         "3.66e+18",
         "Chris Harris",
         "160779139",
         "Des Moines to Chicago Route 2",
         "2016-05-27-22"
        ],
        [
         "9",
         "32",
         "42",
         "59:22.5",
         "Normal",
         "-90.37",
         "35.21",
         "32|42|9223370572464813296",
         "3.66e+18",
         "Ryan Templeton",
         "1090292248",
         "Peoria to Ceder Rapids Route 2",
         "2016-05-27-22"
        ]
       ],
       "shape": {
        "columns": 12,
        "rows": 10
       }
      },
      "text/plain": [
       "   driverId  truckId eventTime eventType  longitude  latitude  \\\n",
       "0        14       25   59:21.4    Normal     -94.58     37.03   \n",
       "1        18       16   59:21.7    Normal     -89.66     39.78   \n",
       "2        27      105   59:21.7    Normal     -90.21     38.65   \n",
       "3        11       74   59:21.7    Normal     -90.20     38.65   \n",
       "4        22       87   59:21.7    Normal     -90.04     35.19   \n",
       "5        22       87   59:22.3    Normal     -90.37     35.21   \n",
       "6        23       68   59:22.4    Normal     -89.91     40.86   \n",
       "7        11       74   59:22.5    Normal     -89.74     39.10   \n",
       "8        20       41   59:22.5    Normal     -93.36     41.69   \n",
       "9        32       42   59:22.5    Normal     -90.37     35.21   \n",
       "\n",
       "                     eventKey  CorrelationId       driverName     routeId  \\\n",
       "0   14|25|9223370572464814373   3.660000e+18       Adis Cesir   160405074   \n",
       "1   18|16|9223370572464814089   3.660000e+18        Grant Liu  1565885487   \n",
       "2  27|105|9223370572464814070   3.660000e+18  Mark Lochbihler  1325562373   \n",
       "3   11|74|9223370572464814123   3.660000e+18   Jamie Engesser  1567254452   \n",
       "4   22|87|9223370572464814101   3.660000e+18    Nadeem Asghar  1198242881   \n",
       "5   22|87|9223370572464813486   3.660000e+18    Nadeem Asghar  1198242881   \n",
       "6   23|68|9223370572464813450   3.660000e+18        Adam Diaz   160405074   \n",
       "7   11|74|9223370572464813355   3.660000e+18   Jamie Engesser  1567254452   \n",
       "8   20|41|9223370572464813344   3.660000e+18     Chris Harris   160779139   \n",
       "9   32|42|9223370572464813296   3.660000e+18   Ryan Templeton  1090292248   \n",
       "\n",
       "                                routeName      eventDate  \n",
       "0           Joplin to Kansas City Route 2  2016-05-27-22  \n",
       "1           Springfield to KC Via Hanibal  2016-05-27-22  \n",
       "2  Springfield to KC Via Columbia Route 2  2016-05-27-22  \n",
       "3           Saint Louis to Memphis Route2  2016-05-27-22  \n",
       "4           Saint Louis to Chicago Route2  2016-05-27-22  \n",
       "5           Saint Louis to Chicago Route2  2016-05-27-22  \n",
       "6           Joplin to Kansas City Route 2  2016-05-27-22  \n",
       "7           Saint Louis to Memphis Route2  2016-05-27-22  \n",
       "8           Des Moines to Chicago Route 2  2016-05-27-22  \n",
       "9          Peoria to Ceder Rapids Route 2  2016-05-27-22  "
      ]
     },
     "execution_count": 3,
     "metadata": {},
     "output_type": "execute_result"
    }
   ],
   "source": [
    "truck_events_subset = truck_events[0:10]\n",
    "truck_events_subset"
   ]
  },
  {
   "cell_type": "code",
   "execution_count": null,
   "id": "b243f585",
   "metadata": {},
   "outputs": [],
   "source": []
  }
 ],
 "metadata": {
  "kernelspec": {
   "display_name": ".venv",
   "language": "python",
   "name": "python3"
  },
  "language_info": {
   "codemirror_mode": {
    "name": "ipython",
    "version": 3
   },
   "file_extension": ".py",
   "mimetype": "text/x-python",
   "name": "python",
   "nbconvert_exporter": "python",
   "pygments_lexer": "ipython3",
   "version": "3.12.3"
  }
 },
 "nbformat": 4,
 "nbformat_minor": 5
}
